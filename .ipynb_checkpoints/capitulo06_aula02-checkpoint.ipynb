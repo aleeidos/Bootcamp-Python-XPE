{
 "cells": [
  {
   "cell_type": "markdown",
   "metadata": {
    "id": "RA-qwX68ujNw"
   },
   "source": [
    "# Capítulo 06 - Funções em Python"
   ]
  },
  {
   "cell_type": "markdown",
   "metadata": {
    "id": "sU7ZsvZ6w7Go"
   },
   "source": [
    "## Aula 02 - Utilização de Funções\n"
   ]
  },
  {
   "cell_type": "code",
   "execution_count": 1,
   "metadata": {
    "executionInfo": {
     "elapsed": 3,
     "status": "ok",
     "timestamp": 1648442466387,
     "user": {
      "displayName": "Antonio Carlos Nazaré Júnior",
      "photoUrl": "https://lh3.googleusercontent.com/a-/AOh14Gj9t1e1MurD5HFTc0dgCs0cIx2OonhoLZwSGR9ZXa4=s64",
      "userId": "06540041046515040720"
     },
     "user_tz": 180
    },
    "id": "GQ3PlGKp4KGk"
   },
   "outputs": [],
   "source": [
    "# exibe mensagem de boas vindas à uma pessoa\n",
    "def boas_vindas(nome):\n",
    "    print(f'Olá {nome}. Seja bem-vindo (a)!')\n",
    "\n",
    "# calcula a área de um quadrado: l x l\n",
    "def area_quadrado(lado): \n",
    "    return lado * lado\n",
    "\n",
    "# calcula a área de um triângulo: (b x h) / 2\n",
    "def area_triangulo(base, altura): \n",
    "    return (base * altura)/2"
   ]
  },
  {
   "cell_type": "code",
   "execution_count": 2,
   "metadata": {
    "colab": {
     "base_uri": "https://localhost:8080/"
    },
    "executionInfo": {
     "elapsed": 250,
     "status": "ok",
     "timestamp": 1648442485522,
     "user": {
      "displayName": "Antonio Carlos Nazaré Júnior",
      "photoUrl": "https://lh3.googleusercontent.com/a-/AOh14Gj9t1e1MurD5HFTc0dgCs0cIx2OonhoLZwSGR9ZXa4=s64",
      "userId": "06540041046515040720"
     },
     "user_tz": 180
    },
    "id": "HSIshVg94UNF",
    "outputId": "d39857ad-2930-44c6-e022-eedfd457ae9f"
   },
   "outputs": [
    {
     "name": "stdout",
     "output_type": "stream",
     "text": [
      "Olá Priscila. Seja bem-vindo (a)!\n",
      "10.0\n",
      "Olá Maria. Seja bem-vindo (a)!\n",
      "Olá Joana. Seja bem-vindo (a)!\n",
      "16\n",
      "100\n",
      "Olá Antônio. Seja bem-vindo (a)!\n",
      "100\n",
      "5.0\n",
      "10.0\n"
     ]
    }
   ],
   "source": [
    "# Realiza as chamadas das funções\n",
    "boas_vindas('Priscila')\n",
    "print(area_triangulo(4, 5))\n",
    "\n",
    "boas_vindas('Maria')\n",
    "boas_vindas('Joana')\n",
    "\n",
    "print(area_quadrado(4))\n",
    "print(area_quadrado(10))\n",
    "\n",
    "boas_vindas('Antônio')\n",
    "print(area_quadrado(10))\n",
    "\n",
    "print(area_triangulo(5, 2))\n",
    "print(area_triangulo(4, 5))"
   ]
  },
  {
   "cell_type": "code",
   "execution_count": 5,
   "metadata": {
    "colab": {
     "base_uri": "https://localhost:8080/"
    },
    "executionInfo": {
     "elapsed": 234,
     "status": "ok",
     "timestamp": 1648442576255,
     "user": {
      "displayName": "Antonio Carlos Nazaré Júnior",
      "photoUrl": "https://lh3.googleusercontent.com/a-/AOh14Gj9t1e1MurD5HFTc0dgCs0cIx2OonhoLZwSGR9ZXa4=s64",
      "userId": "06540041046515040720"
     },
     "user_tz": 180
    },
    "id": "1Q7N_DHG1GYx",
    "outputId": "5cf58079-eddf-48dd-fd94-199ca1329c79"
   },
   "outputs": [
    {
     "data": {
      "text/plain": [
       "8"
      ]
     },
     "execution_count": 5,
     "metadata": {},
     "output_type": "execute_result"
    }
   ],
   "source": [
    "def funcao_sem_retorno(a, b):\n",
    "    soma = a + b\n",
    "    return soma\n",
    "\n",
    "funcao_sem_retorno(2, 6)"
   ]
  },
  {
   "cell_type": "markdown",
   "metadata": {},
   "source": [
    "Paramos na célula abaixo:"
   ]
  },
  {
   "cell_type": "code",
   "execution_count": 2,
   "metadata": {
    "executionInfo": {
     "elapsed": 346,
     "status": "ok",
     "timestamp": 1648442853526,
     "user": {
      "displayName": "Antonio Carlos Nazaré Júnior",
      "photoUrl": "https://lh3.googleusercontent.com/a-/AOh14Gj9t1e1MurD5HFTc0dgCs0cIx2OonhoLZwSGR9ZXa4=s64",
      "userId": "06540041046515040720"
     },
     "user_tz": 180
    },
    "id": "YGTcUpVE4WKl"
   },
   "outputs": [],
   "source": [
    "# Realiza uma divisão. Se o divisor é zero, retorna uma mensagem de erro. \n",
    "def div(dividendo, divisor):\n",
    "    if divisor == 0:\n",
    "        print('ERRO: Divisor igual à zero!')\n",
    "        return\n",
    "    return dividendo / divisor\n",
    "\n",
    "# Função similar à função div, mas que retorna o dividendo e o resto da divisão.\n",
    "def div_qr(dividendo, divisor):\n",
    "    if divisor == 0:\n",
    "        print('ERRO: Divisor igual à zero!')\n",
    "        return\n",
    "    quociente =  dividendo // divisor\n",
    "    resto = dividendo % divisor\n",
    "    return (quociente, resto)"
   ]
  },
  {
   "cell_type": "code",
   "execution_count": 3,
   "metadata": {
    "colab": {
     "base_uri": "https://localhost:8080/"
    },
    "executionInfo": {
     "elapsed": 266,
     "status": "ok",
     "timestamp": 1648442629496,
     "user": {
      "displayName": "Antonio Carlos Nazaré Júnior",
      "photoUrl": "https://lh3.googleusercontent.com/a-/AOh14Gj9t1e1MurD5HFTc0dgCs0cIx2OonhoLZwSGR9ZXa4=s64",
      "userId": "06540041046515040720"
     },
     "user_tz": 180
    },
    "id": "6SF8ZzEq4dhm",
    "outputId": "f0ff4b95-b9c8-4771-d818-127ef828691c"
   },
   "outputs": [
    {
     "name": "stdout",
     "output_type": "stream",
     "text": [
      "div(10, 4) ==> 2.5\n"
     ]
    }
   ],
   "source": [
    "print('div(10, 4) ==>', div(10, 4)) # dividento=10 e divisor=4"
   ]
  },
  {
   "cell_type": "code",
   "execution_count": 10,
   "metadata": {
    "colab": {
     "base_uri": "https://localhost:8080/"
    },
    "executionInfo": {
     "elapsed": 2,
     "status": "ok",
     "timestamp": 1648442774656,
     "user": {
      "displayName": "Antonio Carlos Nazaré Júnior",
      "photoUrl": "https://lh3.googleusercontent.com/a-/AOh14Gj9t1e1MurD5HFTc0dgCs0cIx2OonhoLZwSGR9ZXa4=s64",
      "userId": "06540041046515040720"
     },
     "user_tz": 180
    },
    "id": "16V2eTVY2GEB",
    "outputId": "31d3c943-f00e-41a2-bfdd-2905791a627f"
   },
   "outputs": [
    {
     "data": {
      "text/plain": [
       "tuple"
      ]
     },
     "execution_count": 10,
     "metadata": {},
     "output_type": "execute_result"
    }
   ],
   "source": [
    "type(div_qr(10, 4))"
   ]
  },
  {
   "cell_type": "code",
   "execution_count": 8,
   "metadata": {
    "colab": {
     "base_uri": "https://localhost:8080/"
    },
    "executionInfo": {
     "elapsed": 234,
     "status": "ok",
     "timestamp": 1648442736381,
     "user": {
      "displayName": "Antonio Carlos Nazaré Júnior",
      "photoUrl": "https://lh3.googleusercontent.com/a-/AOh14Gj9t1e1MurD5HFTc0dgCs0cIx2OonhoLZwSGR9ZXa4=s64",
      "userId": "06540041046515040720"
     },
     "user_tz": 180
    },
    "id": "3A3nso3F4t_p",
    "outputId": "256175a2-dbdc-488e-81b9-bdd333620602"
   },
   "outputs": [
    {
     "name": "stdout",
     "output_type": "stream",
     "text": [
      "div_qr(10, 4) ==> (2, 2)\n"
     ]
    }
   ],
   "source": [
    "print('div_qr(10, 4) ==>', div_qr(10, 4)) # dividento=10 e divisor=4"
   ]
  },
  {
   "cell_type": "code",
   "execution_count": 17,
   "metadata": {
    "colab": {
     "base_uri": "https://localhost:8080/"
    },
    "executionInfo": {
     "elapsed": 248,
     "status": "ok",
     "timestamp": 1648442858188,
     "user": {
      "displayName": "Antonio Carlos Nazaré Júnior",
      "photoUrl": "https://lh3.googleusercontent.com/a-/AOh14Gj9t1e1MurD5HFTc0dgCs0cIx2OonhoLZwSGR9ZXa4=s64",
      "userId": "06540041046515040720"
     },
     "user_tz": 180
    },
    "id": "Uj1PfX9_4uZU",
    "outputId": "a4e212d9-c778-4fd3-ec59-1261cf595628"
   },
   "outputs": [
    {
     "name": "stdout",
     "output_type": "stream",
     "text": [
      "ERRO: Divisor igual à zero!\n",
      "div(10, 0) ==> None\n"
     ]
    }
   ],
   "source": [
    "print('div(10, 0) ==>', div(10, 0)) # dividento=10 e divisor=0"
   ]
  },
  {
   "cell_type": "code",
   "execution_count": 18,
   "metadata": {
    "colab": {
     "base_uri": "https://localhost:8080/"
    },
    "executionInfo": {
     "elapsed": 231,
     "status": "ok",
     "timestamp": 1648442898113,
     "user": {
      "displayName": "Antonio Carlos Nazaré Júnior",
      "photoUrl": "https://lh3.googleusercontent.com/a-/AOh14Gj9t1e1MurD5HFTc0dgCs0cIx2OonhoLZwSGR9ZXa4=s64",
      "userId": "06540041046515040720"
     },
     "user_tz": 180
    },
    "id": "oxIkmnup4gDM",
    "outputId": "901a9031-35b9-4eeb-d1c2-40a644ba6e65"
   },
   "outputs": [
    {
     "name": "stdout",
     "output_type": "stream",
     "text": [
      "resultado: (4, 1) <class 'tuple'>\n",
      "quociente: 4 <class 'int'>\n",
      "resto: 1 <class 'int'>\n"
     ]
    }
   ],
   "source": [
    "# atribuição dos múltiplos valores em uma variável única do tipo tupla\n",
    "resultado = div_qr(21, 5)\n",
    "print('resultado:', resultado, type(resultado))\n",
    "\n",
    "# atribuição dos múltiplos valores em variáveis separadas\n",
    "quociente, resto = div_qr(21, 5)\n",
    "print('quociente:', quociente, type(quociente))\n",
    "print('resto:', resto, type(resto))"
   ]
  },
  {
   "cell_type": "code",
   "execution_count": 24,
   "metadata": {
    "executionInfo": {
     "elapsed": 5,
     "status": "ok",
     "timestamp": 1648443123484,
     "user": {
      "displayName": "Antonio Carlos Nazaré Júnior",
      "photoUrl": "https://lh3.googleusercontent.com/a-/AOh14Gj9t1e1MurD5HFTc0dgCs0cIx2OonhoLZwSGR9ZXa4=s64",
      "userId": "06540041046515040720"
     },
     "user_tz": 180
    },
    "id": "CRGXMo1F42ky"
   },
   "outputs": [],
   "source": [
    "# Que tal reaproveitarmos mais código ainda?\n",
    "\n",
    "# Verifica se é um divisor inválido (divisor == 0)\n",
    "def divisor_invalido(divisor):\n",
    "    if divisor == 0:\n",
    "        print('ERRO: Divisor inválido (igual à zero)!')\n",
    "        return True\n",
    "    return False\n",
    "\n",
    "# Retorna o resultado de uma divisão\n",
    "def div(dividendo, divisor):\n",
    "    if divisor_invalido(divisor):\n",
    "        return\n",
    "    return dividendo / divisor\n",
    "\n",
    "# Retorna o quociente e o resto de uma divisão\n",
    "def div_qr(dividendo, divisor):\n",
    "    if divisor_invalido(divisor):\n",
    "        print('ERRO: Divisor inválido (igual à zero)!')\n",
    "        return\n",
    "    quociente =  dividendo // divisor\n",
    "    resto = dividendo % divisor\n",
    "    return (quociente, resto)"
   ]
  },
  {
   "cell_type": "code",
   "execution_count": 25,
   "metadata": {
    "colab": {
     "base_uri": "https://localhost:8080/"
    },
    "executionInfo": {
     "elapsed": 260,
     "status": "ok",
     "timestamp": 1648443126094,
     "user": {
      "displayName": "Antonio Carlos Nazaré Júnior",
      "photoUrl": "https://lh3.googleusercontent.com/a-/AOh14Gj9t1e1MurD5HFTc0dgCs0cIx2OonhoLZwSGR9ZXa4=s64",
      "userId": "06540041046515040720"
     },
     "user_tz": 180
    },
    "id": "EdmVQxqriQtw",
    "outputId": "cefb323f-2089-4eb4-a9ea-ef9ebd7278e2"
   },
   "outputs": [
    {
     "name": "stdout",
     "output_type": "stream",
     "text": [
      "ERRO: Divisor inválido (igual à zero)!\n"
     ]
    }
   ],
   "source": [
    "div(10,0)"
   ]
  },
  {
   "cell_type": "code",
   "execution_count": 26,
   "metadata": {
    "colab": {
     "base_uri": "https://localhost:8080/"
    },
    "executionInfo": {
     "elapsed": 257,
     "status": "ok",
     "timestamp": 1648443131196,
     "user": {
      "displayName": "Antonio Carlos Nazaré Júnior",
      "photoUrl": "https://lh3.googleusercontent.com/a-/AOh14Gj9t1e1MurD5HFTc0dgCs0cIx2OonhoLZwSGR9ZXa4=s64",
      "userId": "06540041046515040720"
     },
     "user_tz": 180
    },
    "id": "AEK33m7Q3LaT",
    "outputId": "7b15c02f-29eb-4414-82a4-9cea7ce1ef0a"
   },
   "outputs": [
    {
     "name": "stdout",
     "output_type": "stream",
     "text": [
      "ERRO: Divisor inválido (igual à zero)!\n"
     ]
    }
   ],
   "source": [
    "div_qr(10, 0)"
   ]
  },
  {
   "cell_type": "code",
   "execution_count": null,
   "metadata": {
    "id": "9mXsErSM3SHM"
   },
   "outputs": [],
   "source": []
  }
 ],
 "metadata": {
  "colab": {
   "authorship_tag": "ABX9TyO+rOJdYrh35Dd1Klbg5isB",
   "name": "capitulo06_aula02.ipynb",
   "provenance": [
    {
     "file_id": "1VzKImS1EF3i9fYo7-Y2ES4AY1vIK18eC",
     "timestamp": 1648335242658
    },
    {
     "file_id": "1oUfEmVcw0JR0IuuZQeDnvLNmej8CmAnj",
     "timestamp": 1648178117501
    },
    {
     "file_id": "1E-_UODUPGtiR6v3hl1-Upbrot7OuBLp2",
     "timestamp": 1648126267781
    },
    {
     "file_id": "1Oh9BjqeOL3OO98t7HOZjbIT8FN2R8OMG",
     "timestamp": 1648066056959
    },
    {
     "file_id": "1qNBXDqrtZSYme5jWl6_t-8ijv6Q6jkhf",
     "timestamp": 1648060298367
    },
    {
     "file_id": "17VqpVE7CSSSjAvztW1Aa_QTnfBwrk_va",
     "timestamp": 1648057477536
    }
   ]
  },
  "kernelspec": {
   "display_name": "Python 3 (ipykernel)",
   "language": "python",
   "name": "python3"
  },
  "language_info": {
   "codemirror_mode": {
    "name": "ipython",
    "version": 3
   },
   "file_extension": ".py",
   "mimetype": "text/x-python",
   "name": "python",
   "nbconvert_exporter": "python",
   "pygments_lexer": "ipython3",
   "version": "3.9.13"
  }
 },
 "nbformat": 4,
 "nbformat_minor": 1
}
