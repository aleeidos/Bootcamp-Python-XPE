{
 "cells": [
  {
   "cell_type": "code",
   "execution_count": 6,
   "id": "0ee92f9f",
   "metadata": {},
   "outputs": [],
   "source": [
    "import areas"
   ]
  },
  {
   "cell_type": "code",
   "execution_count": 7,
   "id": "8edfbeaf",
   "metadata": {},
   "outputs": [
    {
     "data": {
      "text/plain": [
       "20.0"
      ]
     },
     "execution_count": 7,
     "metadata": {},
     "output_type": "execute_result"
    }
   ],
   "source": [
    "areas.triangulo(5,8)"
   ]
  },
  {
   "cell_type": "code",
   "execution_count": null,
   "id": "589ac3bc",
   "metadata": {},
   "outputs": [],
   "source": []
  }
 ],
 "metadata": {
  "kernelspec": {
   "display_name": "Python 3 (ipykernel)",
   "language": "python",
   "name": "python3"
  },
  "language_info": {
   "codemirror_mode": {
    "name": "ipython",
    "version": 3
   },
   "file_extension": ".py",
   "mimetype": "text/x-python",
   "name": "python",
   "nbconvert_exporter": "python",
   "pygments_lexer": "ipython3",
   "version": "3.9.13"
  }
 },
 "nbformat": 4,
 "nbformat_minor": 5
}
