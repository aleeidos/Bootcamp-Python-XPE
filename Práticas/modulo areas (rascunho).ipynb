{
 "cells": [
  {
   "cell_type": "code",
   "execution_count": null,
   "id": "de48aa2c",
   "metadata": {},
   "outputs": [],
   "source": [
    "# Define o valor de PI\n",
    "PI = 3.141592\n",
    "\n",
    "# Calcula a área do quadrado\n",
    "def quadrado(l): \n",
    "    return l ** 2\n",
    "\n",
    "# calcula a área de um triângulo\n",
    "def triangulo(b, h):    \n",
    "    return (b * h)/2\n",
    "\n",
    "# calcula a área de um círculo\n",
    "def circulo(r):    \n",
    "    return PI * (r ** 2)\n",
    "\n",
    "# calcula a área de uma elipse\n",
    "def elipse(a, b):    \n",
    "    return PI * a * b\n",
    "\n",
    "# calcula a área de um trapézio\n",
    "def trapezio(B, b, h):    \n",
    "    return  (B + b) * h / 2"
   ]
  }
 ],
 "metadata": {
  "kernelspec": {
   "display_name": "Python 3 (ipykernel)",
   "language": "python",
   "name": "python3"
  },
  "language_info": {
   "codemirror_mode": {
    "name": "ipython",
    "version": 3
   },
   "file_extension": ".py",
   "mimetype": "text/x-python",
   "name": "python",
   "nbconvert_exporter": "python",
   "pygments_lexer": "ipython3",
   "version": "3.9.13"
  }
 },
 "nbformat": 4,
 "nbformat_minor": 5
}
