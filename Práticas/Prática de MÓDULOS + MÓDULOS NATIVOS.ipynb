{
 "cells": [
  {
   "cell_type": "code",
   "execution_count": 21,
   "id": "0ee92f9f",
   "metadata": {},
   "outputs": [],
   "source": [
    "import areas\n",
    "areas.quadrado()\n",
    "\n",
    "import areas as ar\n",
    "ar.quadrado()"
   ]
  },
  {
   "cell_type": "code",
   "execution_count": null,
   "id": "8edfbeaf",
   "metadata": {},
   "outputs": [],
   "source": [
    "areas.triangulo(5,8)"
   ]
  },
  {
   "cell_type": "code",
   "execution_count": null,
   "id": "589ac3bc",
   "metadata": {},
   "outputs": [],
   "source": [
    "import modulo\n",
    "\n",
    "areas.triangulo(5,8)"
   ]
  },
  {
   "cell_type": "code",
   "execution_count": null,
   "id": "e19fee0e",
   "metadata": {},
   "outputs": [],
   "source": [
    "from areas import *\n",
    "\n",
    "PI\n",
    "quadrado(7)"
   ]
  },
  {
   "cell_type": "code",
   "execution_count": 23,
   "id": "f8709cba",
   "metadata": {},
   "outputs": [
    {
     "name": "stdout",
     "output_type": "stream",
     "text": [
      "17.5\n",
      "3.141592\n"
     ]
    }
   ],
   "source": [
    "from areas import quadrado\n",
    "\n",
    "print(areas.triangulo(7,5))\n",
    "print(areas.PI)"
   ]
  },
  {
   "cell_type": "code",
   "execution_count": null,
   "id": "8d1ea8e0",
   "metadata": {},
   "outputs": [],
   "source": [
    "import areas as ar\n",
    "ar.triangulo(7,5)"
   ]
  },
  {
   "cell_type": "markdown",
   "id": "ab967952",
   "metadata": {},
   "source": [
    "# MÓDULOS NATIVOS DO PYTHON"
   ]
  },
  {
   "cell_type": "code",
   "execution_count": 3,
   "id": "400dbac6",
   "metadata": {},
   "outputs": [
    {
     "name": "stdout",
     "output_type": "stream",
     "text": [
      "Função cosseno:  0.8623188722876839\n",
      "Função logarítmica:  2.302585092994046\n"
     ]
    }
   ],
   "source": [
    "import math\n",
    "\n",
    "print('Função cosseno: ', math.cos(100))\n",
    "print('Função logarítmica: ', math.log(10))"
   ]
  },
  {
   "cell_type": "code",
   "execution_count": 8,
   "id": "52850f2a",
   "metadata": {},
   "outputs": [
    {
     "name": "stdout",
     "output_type": "stream",
     "text": [
      "[('A', 'B', 'C'), ('A', 'B', 'D'), ('A', 'C', 'D'), ('B', 'C', 'D')]\n",
      "\n",
      "[('a', 'b'), ('a', 'c'), ('b', 'a'), ('b', 'c'), ('c', 'a'), ('c', 'b')]\n"
     ]
    }
   ],
   "source": [
    "import itertools\n",
    "\n",
    "print(list(itertools.combinations('ABCD', 3)))\n",
    "print()\n",
    "print(list(itertools.permutations(['a', 'b', 'c'], 2)))"
   ]
  },
  {
   "cell_type": "code",
   "execution_count": 10,
   "id": "c44a708f",
   "metadata": {},
   "outputs": [
    {
     "name": "stdout",
     "output_type": "stream",
     "text": [
      "Datetime atual:  2023-06-01 08:09:44.079899\n",
      "\n",
      "Datetime após 7 dias:  2023-06-08 08:09:44.080899\n"
     ]
    }
   ],
   "source": [
    "from datetime import datetime, timedelta\n",
    "\n",
    "print('Datetime atual: ', datetime.now())\n",
    "print()\n",
    "print('Datetime após 7 dias: ', datetime.now() + timedelta(days=7))"
   ]
  },
  {
   "cell_type": "code",
   "execution_count": 14,
   "id": "04e78827",
   "metadata": {},
   "outputs": [
    {
     "name": "stdout",
     "output_type": "stream",
     "text": [
      "Número aleatório entre 0 e 1:  0.17738863318808695\n",
      "\n",
      "Número aleatório entre 50 e 100:  78\n"
     ]
    }
   ],
   "source": [
    "import random\n",
    "\n",
    "print('Número aleatório entre 0 e 1: ', random.random())\n",
    "print()\n",
    "print('Número aleatório entre 50 e 100: ', random.randint(50, 100))"
   ]
  },
  {
   "cell_type": "code",
   "execution_count": 17,
   "id": "ae2330cc",
   "metadata": {},
   "outputs": [
    {
     "ename": "FileExistsError",
     "evalue": "[WinError 183] Não é possível criar um arquivo já existente: 'pasta'",
     "output_type": "error",
     "traceback": [
      "\u001b[1;31m---------------------------------------------------------------------------\u001b[0m",
      "\u001b[1;31mFileExistsError\u001b[0m                           Traceback (most recent call last)",
      "\u001b[1;32m~\\AppData\\Local\\Temp\\ipykernel_12216\\1787060513.py\u001b[0m in \u001b[0;36m<module>\u001b[1;34m\u001b[0m\n\u001b[0;32m      1\u001b[0m \u001b[1;32mimport\u001b[0m \u001b[0mos\u001b[0m\u001b[1;33m\u001b[0m\u001b[1;33m\u001b[0m\u001b[0m\n\u001b[0;32m      2\u001b[0m \u001b[1;33m\u001b[0m\u001b[0m\n\u001b[1;32m----> 3\u001b[1;33m \u001b[0mos\u001b[0m\u001b[1;33m.\u001b[0m\u001b[0mmkdir\u001b[0m\u001b[1;33m(\u001b[0m\u001b[1;34m'pasta'\u001b[0m\u001b[1;33m)\u001b[0m\u001b[1;33m\u001b[0m\u001b[1;33m\u001b[0m\u001b[0m\n\u001b[0m\u001b[0;32m      4\u001b[0m \u001b[0mprint\u001b[0m\u001b[1;33m(\u001b[0m\u001b[1;34m'Caminho completo: '\u001b[0m\u001b[1;33m,\u001b[0m \u001b[0mos\u001b[0m\u001b[1;33m.\u001b[0m\u001b[0mpath\u001b[0m\u001b[1;33m.\u001b[0m\u001b[0mjoin\u001b[0m\u001b[1;33m(\u001b[0m\u001b[1;34m'D:/Desktop'\u001b[0m\u001b[1;33m,\u001b[0m \u001b[1;34m'pasta'\u001b[0m\u001b[1;33m,\u001b[0m\u001b[1;34m'arquivo.txt'\u001b[0m\u001b[1;33m)\u001b[0m\u001b[1;33m)\u001b[0m\u001b[1;33m\u001b[0m\u001b[1;33m\u001b[0m\u001b[0m\n",
      "\u001b[1;31mFileExistsError\u001b[0m: [WinError 183] Não é possível criar um arquivo já existente: 'pasta'"
     ]
    }
   ],
   "source": [
    "import os \n",
    "\n",
    "os.mkdir('pasta')\n",
    "print('Caminho completo: ', os.path.join('D:/Desktop', 'pasta','arquivo.txt'))"
   ]
  },
  {
   "cell_type": "code",
   "execution_count": null,
   "id": "3aedf49f",
   "metadata": {},
   "outputs": [],
   "source": [
    "!pip install pandas\n",
    "\n",
    "!pip install pandas==1.3.5\n",
    "\n",
    "!pip install --upgrade pandas"
   ]
  },
  {
   "cell_type": "markdown",
   "id": "f8e68813",
   "metadata": {},
   "source": [
    "# MÓDULOS EXTERNOS E PACOTES"
   ]
  },
  {
   "cell_type": "code",
   "execution_count": 26,
   "id": "dcc07063",
   "metadata": {},
   "outputs": [
    {
     "name": "stdout",
     "output_type": "stream",
     "text": [
      "\u001b[34mtexto de teste\n",
      "\u001b[31mtexto de teste em vermelho\n",
      "\n",
      "\u001b[44m\u001b[31mTESTE DE TEXTO COM FUNDO COLORIDO\n",
      "teste\n",
      "\u001b[0mteste\n"
     ]
    },
    {
     "data": {
      "text/plain": [
       "'0.4.5'"
      ]
     },
     "execution_count": 26,
     "metadata": {},
     "output_type": "execute_result"
    }
   ],
   "source": [
    "from colorama import Fore, Back, Style\n",
    "\n",
    "print(Fore.BLUE + 'texto de teste')\n",
    "print(Fore.RED + 'texto de teste em vermelho')\n",
    "print()\n",
    "\n",
    "print(Back.BLUE + Fore.RED + 'TESTE DE TEXTO COM FUNDO COLORIDO')\n",
    "print('teste')\n",
    "print(Style.RESET_ALL + 'teste')\n",
    "\n",
    "colorama.__version__"
   ]
  }
 ],
 "metadata": {
  "kernelspec": {
   "display_name": "Python 3 (ipykernel)",
   "language": "python",
   "name": "python3"
  },
  "language_info": {
   "codemirror_mode": {
    "name": "ipython",
    "version": 3
   },
   "file_extension": ".py",
   "mimetype": "text/x-python",
   "name": "python",
   "nbconvert_exporter": "python",
   "pygments_lexer": "ipython3",
   "version": "3.9.13"
  }
 },
 "nbformat": 4,
 "nbformat_minor": 5
}
