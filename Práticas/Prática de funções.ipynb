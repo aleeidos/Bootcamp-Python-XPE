{
 "cells": [
  {
   "cell_type": "markdown",
   "id": "a6522b18",
   "metadata": {},
   "source": [
    "# Capítulo 6 - Aula 01"
   ]
  },
  {
   "cell_type": "code",
   "execution_count": 4,
   "id": "0b8cbc31",
   "metadata": {},
   "outputs": [
    {
     "name": "stdout",
     "output_type": "stream",
     "text": [
      "O resultado de l1 é 15\n",
      "O resultado de l2 é 35\n",
      "O resultado de l3 é 879\n"
     ]
    }
   ],
   "source": [
    "# define as listas com os números a serem somados\n",
    "l1 = [1, 2, 3, 4, 5]\n",
    "l2 = [3, 1, 5, 9, 0, 8, 2, 3, 4]\n",
    "l3 = [12, 43, 23, 12, 789]\n",
    "\n",
    "# utilizar uma função para somar um conjunto de números e que o mesmo\n",
    "# procedimento deve ser realizado para três sequências de números\n",
    "# diferentes\n",
    "\n",
    "def soma_listas(lista):\n",
    "    soma = 0\n",
    "    for item in lista:\n",
    "        soma = soma + item\n",
    "    return soma\n",
    "\n",
    "soma_l1 = soma_listas(l1)\n",
    "soma_l2 = soma_listas(l2)\n",
    "soma_l3 = soma_listas(l3)\n",
    "\n",
    "print(f'''O resultado de l1 é {soma_l1}\n",
    "O resultado da SOMA de l2 é {soma_l2}\n",
    "O resultado da SOMA de l3 é {soma_l3}''')"
   ]
  },
  {
   "cell_type": "code",
   "execution_count": 5,
   "id": "71b63793",
   "metadata": {},
   "outputs": [
    {
     "name": "stdout",
     "output_type": "stream",
     "text": [
      "O resultado da multiplicação de l1 é 120\n",
      "O resultado da multiplicação de l2 é 0\n",
      "O resultado da multiplicação de l3 é 112366224\n"
     ]
    }
   ],
   "source": [
    "# usando uma função que multiplique os valores das listas\n",
    "# se atribuíssemos 0 para multiply, todos os resultados seriam 0... por isso atribuímos 1\n",
    "\n",
    "def multiply_list(lista):\n",
    "    multiply = 1\n",
    "    for item in lista:\n",
    "        multiply = multiply * item\n",
    "    return multiply\n",
    "\n",
    "mult_l1 = multiply_list(l1)\n",
    "mult_l2 = multiply_list(l2)\n",
    "mult_l3 = multiply_list(l3)\n",
    "\n",
    "print(f'''O resultado da multiplicação de l1 é {mult_l1}\n",
    "O resultado da multiplicação de l2 é {mult_l2}\n",
    "O resultado da multiplicação de l3 é {mult_l3}''')"
   ]
  },
  {
   "cell_type": "markdown",
   "id": "71329964",
   "metadata": {},
   "source": [
    "# Capítulo 6 - Aula 2"
   ]
  },
  {
   "cell_type": "code",
   "execution_count": 8,
   "id": "0855eae2",
   "metadata": {},
   "outputs": [
    {
     "name": "stdout",
     "output_type": "stream",
     "text": [
      "Insira seu nome: ale\n",
      "Olá ale, tudo bem? Seja bem vindo\n"
     ]
    }
   ],
   "source": [
    "nome = input('Insira seu nome: ')\n",
    "\n",
    "def boas_vindas(nome):\n",
    "    print(f'Olá {nome}, tudo bem? Seja bem vindo')\n",
    "    \n",
    "boas_vindas(nome)"
   ]
  },
  {
   "cell_type": "code",
   "execution_count": 11,
   "id": "78761289",
   "metadata": {},
   "outputs": [
    {
     "data": {
      "text/plain": [
       "4"
      ]
     },
     "execution_count": 11,
     "metadata": {},
     "output_type": "execute_result"
    }
   ],
   "source": [
    "def area_retangulo(lado1, lado2):\n",
    "    return lado1 * lado2\n",
    "area_retangulo(2, 2)"
   ]
  },
  {
   "cell_type": "code",
   "execution_count": 12,
   "id": "4e746596",
   "metadata": {},
   "outputs": [
    {
     "data": {
      "text/plain": [
       "10"
      ]
     },
     "execution_count": 12,
     "metadata": {},
     "output_type": "execute_result"
    }
   ],
   "source": [
    "def funcao_de_soma(a, b):\n",
    "    soma = a + b\n",
    "    return soma\n",
    "\n",
    "funcao_de_soma(5,5)"
   ]
  },
  {
   "cell_type": "code",
   "execution_count": 5,
   "id": "863b5c22",
   "metadata": {},
   "outputs": [
    {
     "name": "stdout",
     "output_type": "stream",
     "text": [
      "ERRO: Não é possível dividir um número por 0!!\n"
     ]
    }
   ],
   "source": [
    "def divisao(dividendo, divisor):\n",
    "    if divisor == 0:\n",
    "        print('ERRO: Não é possível dividir um número por 0!!')\n",
    "        return\n",
    "    return dividendo / divisor\n",
    "\n",
    "divisao(8,0)\n"
   ]
  },
  {
   "cell_type": "code",
   "execution_count": 6,
   "id": "6e509cec",
   "metadata": {},
   "outputs": [
    {
     "data": {
      "text/plain": [
       "(2, 0)"
      ]
     },
     "execution_count": 6,
     "metadata": {},
     "output_type": "execute_result"
    }
   ],
   "source": [
    "def divisao(dividendo, divisor):\n",
    "    if divisor == 0:\n",
    "        print('ERRO: Não é possível dividir um número por 0!!')\n",
    "        return\n",
    "    quociente = dividendo // divisor\n",
    "    resto = dividendo % divisor\n",
    "    return (quociente, resto)\n",
    "\n",
    "divisao(10, 5)"
   ]
  }
 ],
 "metadata": {
  "kernelspec": {
   "display_name": "Python 3 (ipykernel)",
   "language": "python",
   "name": "python3"
  },
  "language_info": {
   "codemirror_mode": {
    "name": "ipython",
    "version": 3
   },
   "file_extension": ".py",
   "mimetype": "text/x-python",
   "name": "python",
   "nbconvert_exporter": "python",
   "pygments_lexer": "ipython3",
   "version": "3.9.13"
  }
 },
 "nbformat": 4,
 "nbformat_minor": 5
}
