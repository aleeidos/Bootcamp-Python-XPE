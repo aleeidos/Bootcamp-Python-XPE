{
 "cells": [
  {
   "cell_type": "markdown",
   "metadata": {},
   "source": [
    "# Capítulo 2.1 - A Sintaxe do Python"
   ]
  },
  {
   "cell_type": "markdown",
   "metadata": {},
   "source": [
    "### Nesta aula vamos estudar alguns códigos com o intuito de se familiarizar com a sintaxe do python"
   ]
  },
  {
   "cell_type": "markdown",
   "metadata": {},
   "source": [
    "Basicamente este código abaixo cria duas listas e coloca valores dentro dessas listas.   \n",
    "Para valores de 0 a 5, ele coloca na lista \"menores\"  \n",
    "Para valores de 6 a 10, ele coloca na lista \"maiores\""
   ]
  },
  {
   "cell_type": "code",
   "execution_count": 1,
   "metadata": {},
   "outputs": [
    {
     "name": "stdout",
     "output_type": "stream",
     "text": [
      "Resultado final:\n",
      "menores: [0, 1, 2, 3, 4]\n",
      "maiores: [6, 7, 8, 9]\n"
     ]
    }
   ],
   "source": [
    "limiar = 5\n",
    "menores = []\n",
    "maiores = []\n",
    "\n",
    "# para i em um range de ATÉ 10...\n",
    "for i in range(10):\n",
    "    if(i < limiar):\n",
    "        menores.append(i)\n",
    "    elif(i > limiar):\n",
    "        maiores.append(i)\n",
    "\n",
    "print('Resultado final:')\n",
    "print('menores:', menores)\n",
    "print('maiores:', maiores)"
   ]
  },
  {
   "cell_type": "markdown",
   "metadata": {},
   "source": [
    "Como a indentação pode afetar o resultado de um mesmo código:"
   ]
  },
  {
   "cell_type": "markdown",
   "metadata": {},
   "source": [
    "Aqui o ```print(x)``` foi indentado dentro do bloco IF, seguindo a condicional do bloco.  \n",
    "Ele não foi exibido porque no momento da execução, o valor de x era MENOR que 5.  \n",
    "A condicional disse que o x só seria printado caso seu valor fosse MAIOR que 5."
   ]
  },
  {
   "cell_type": "code",
   "execution_count": 2,
   "metadata": {},
   "outputs": [
    {
     "name": "stdout",
     "output_type": "stream",
     "text": [
      "fim\n"
     ]
    }
   ],
   "source": [
    "x = 4\n",
    "if x > 5:\n",
    "    x = x * 2\n",
    "    print(x)\n",
    "print('fim')"
   ]
  },
  {
   "cell_type": "markdown",
   "metadata": {},
   "source": [
    "Já aqui, o código é o mesmo. A diferença fica por conta da indentação do ```print(x)```  \n",
    "Ele não está indentado dentro do bloco IF. Logo, elenão segue a condicional.  \n",
    "Por isso que o x foi printado, independente do resultado do bloco IF."
   ]
  },
  {
   "cell_type": "code",
   "execution_count": 4,
   "metadata": {},
   "outputs": [
    {
     "name": "stdout",
     "output_type": "stream",
     "text": [
      "4\n",
      "fim\n"
     ]
    }
   ],
   "source": [
    "x = 4\n",
    "if x > 5:\n",
    "    x = x * 2\n",
    "print(x)\n",
    "print('fim')"
   ]
  },
  {
   "cell_type": "markdown",
   "metadata": {},
   "source": [
    "Com relação ao espaçamento nas linhas, é irrelevante a quantidade de espaços.  \n",
    "O python vai conseguir ler o código do mesmo jeito, veja:"
   ]
  },
  {
   "cell_type": "code",
   "execution_count": null,
   "metadata": {},
   "outputs": [],
   "source": [
    "numero = 1\n",
    "numero=1\n",
    "numero  =  1\n",
    "\n",
    "# Para o python, as 3 linhas de código acima são IDÊNTICAS"
   ]
  },
  {
   "cell_type": "markdown",
   "metadata": {},
   "source": [
    "Podemos usar os parênteses para definir a ORDEM DE PRECEDÊNCIA em operações matemáticas:"
   ]
  },
  {
   "cell_type": "code",
   "execution_count": null,
   "metadata": {},
   "outputs": [],
   "source": [
    "x = 2 * (3 + 4)\n",
    "y = (5 - 2) * (3 + 4)\n",
    "z = (x - y) * 3\n",
    "a = (x + y) / z"
   ]
  }
 ],
 "metadata": {
  "kernelspec": {
   "display_name": "Python 3",
   "language": "python",
   "name": "python3"
  },
  "language_info": {
   "codemirror_mode": {
    "name": "ipython",
    "version": 3
   },
   "file_extension": ".py",
   "mimetype": "text/x-python",
   "name": "python",
   "nbconvert_exporter": "python",
   "pygments_lexer": "ipython3",
   "version": "3.12.0"
  }
 },
 "nbformat": 4,
 "nbformat_minor": 2
}
