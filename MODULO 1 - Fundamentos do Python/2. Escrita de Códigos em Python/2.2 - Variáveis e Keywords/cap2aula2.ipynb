{
 "cells": [
  {
   "cell_type": "markdown",
   "metadata": {},
   "source": [
    "# Capítulo 2.2 - Variáveis e Keywords\n"
   ]
  },
  {
   "cell_type": "markdown",
   "metadata": {},
   "source": [
    "No código abaixo eu usei uma expressão/operação e atribuí na variável soma  \n",
    "Além de valores, você consegue armazenar expressões matemáticas em variáveis também"
   ]
  },
  {
   "cell_type": "code",
   "execution_count": 2,
   "metadata": {},
   "outputs": [
    {
     "name": "stdout",
     "output_type": "stream",
     "text": [
      "O valor da soma entre os dois números é 200\n"
     ]
    }
   ],
   "source": [
    "num1 = int(input('Digite um número: '))\n",
    "num2 = int(input('Digite outro número: '))\n",
    "soma = num1 + num2\n",
    "print(f'O valor da soma entre os dois números é {soma}')"
   ]
  },
  {
   "cell_type": "markdown",
   "metadata": {},
   "source": [
    "Atribuindo VALORES nas variáveis:"
   ]
  },
  {
   "cell_type": "code",
   "execution_count": 4,
   "metadata": {},
   "outputs": [],
   "source": [
    "nome = 'João'\n",
    "var_bool = True\n",
    "raio = 2\n",
    "pi = 3.14159265359\n"
   ]
  },
  {
   "cell_type": "markdown",
   "metadata": {},
   "source": [
    "Atribuindo EXPRESSÕES nas variáveis:"
   ]
  },
  {
   "cell_type": "code",
   "execution_count": 6,
   "metadata": {},
   "outputs": [
    {
     "name": "stdout",
     "output_type": "stream",
     "text": [
      "Área = 12.56637061436\n",
      "Nome completo = João da Silva\n",
      "Média = 17.5\n"
     ]
    }
   ],
   "source": [
    "area = pi * (raio * raio)\n",
    "nome_completo = nome + ' da ' + 'Silva'\n",
    "media = (10 + 15 + 20 + 25) / 4\n",
    "print(f'''Área = {area}\n",
    "Nome completo = {nome_completo}\n",
    "Média = {media}''')"
   ]
  },
  {
   "cell_type": "code",
   "execution_count": 8,
   "metadata": {},
   "outputs": [
    {
     "name": "stdout",
     "output_type": "stream",
     "text": [
      "teste\n"
     ]
    },
    {
     "data": {
      "text/plain": [
       "str"
      ]
     },
     "execution_count": 8,
     "metadata": {},
     "output_type": "execute_result"
    }
   ],
   "source": [
    "NOME = 'teste'\n",
    "print(NOME)\n",
    "type(NOME)\n"
   ]
  }
 ],
 "metadata": {
  "kernelspec": {
   "display_name": "Python 3",
   "language": "python",
   "name": "python3"
  },
  "language_info": {
   "codemirror_mode": {
    "name": "ipython",
    "version": 3
   },
   "file_extension": ".py",
   "mimetype": "text/x-python",
   "name": "python",
   "nbconvert_exporter": "python",
   "pygments_lexer": "ipython3",
   "version": "3.12.0"
  }
 },
 "nbformat": 4,
 "nbformat_minor": 2
}
