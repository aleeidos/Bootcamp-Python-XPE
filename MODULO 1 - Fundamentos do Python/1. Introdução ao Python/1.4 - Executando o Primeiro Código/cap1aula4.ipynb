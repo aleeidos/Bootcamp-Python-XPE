{
 "cells": [
  {
   "cell_type": "markdown",
   "metadata": {},
   "source": [
    "# Capítulo 1.4 - Executando o Primeiro Código"
   ]
  },
  {
   "cell_type": "markdown",
   "metadata": {},
   "source": [
    "### Vamos escrever alguns códigos iniciais para praticar o python nesse momento inicial"
   ]
  },
  {
   "cell_type": "code",
   "execution_count": 1,
   "metadata": {},
   "outputs": [
    {
     "name": "stdout",
     "output_type": "stream",
     "text": [
      "Alexandre\n"
     ]
    }
   ],
   "source": [
    "nome = 'Alexandre'\n",
    "print(nome)"
   ]
  },
  {
   "cell_type": "code",
   "execution_count": 2,
   "metadata": {},
   "outputs": [
    {
     "name": "stdout",
     "output_type": "stream",
     "text": [
      "Olá Alexandre seja bem-vindo!\n"
     ]
    }
   ],
   "source": [
    "nome = 'Alexandre'\n",
    "print('Olá', nome, 'seja bem-vindo!')"
   ]
  },
  {
   "cell_type": "code",
   "execution_count": 3,
   "metadata": {},
   "outputs": [
    {
     "name": "stdout",
     "output_type": "stream",
     "text": [
      "Olá Alexandre seja bem-vindo!\n"
     ]
    }
   ],
   "source": [
    "nome = input('Insira o seu nome inicial: ')\n",
    "print('Olá', nome, 'seja bem-vindo!')"
   ]
  },
  {
   "cell_type": "code",
   "execution_count": 4,
   "metadata": {},
   "outputs": [
    {
     "name": "stdout",
     "output_type": "stream",
     "text": [
      "Olá, Alexandre. Seja bem-vindo!\n"
     ]
    }
   ],
   "source": [
    "nome = input('Insira o seu nome inicial: ')\n",
    "print(f'Olá, {nome}. Seja bem-vindo!')"
   ]
  },
  {
   "cell_type": "markdown",
   "metadata": {},
   "source": [
    "Se a gente digitar uma linha de código e executar ela, o python vai exibir o output.  \n",
    "No entanto, somente a última linha será exibida."
   ]
  },
  {
   "cell_type": "code",
   "execution_count": 1,
   "metadata": {},
   "outputs": [
    {
     "data": {
      "text/plain": [
       "3"
      ]
     },
     "execution_count": 1,
     "metadata": {},
     "output_type": "execute_result"
    }
   ],
   "source": [
    "numero = 1\n",
    "numero + 2"
   ]
  }
 ],
 "metadata": {
  "kernelspec": {
   "display_name": "Python 3",
   "language": "python",
   "name": "python3"
  },
  "language_info": {
   "codemirror_mode": {
    "name": "ipython",
    "version": 3
   },
   "file_extension": ".py",
   "mimetype": "text/x-python",
   "name": "python",
   "nbconvert_exporter": "python",
   "pygments_lexer": "ipython3",
   "version": "3.12.0"
  }
 },
 "nbformat": 4,
 "nbformat_minor": 2
}
