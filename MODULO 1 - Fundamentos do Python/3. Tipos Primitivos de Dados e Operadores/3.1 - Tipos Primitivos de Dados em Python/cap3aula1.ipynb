{
 "cells": [
  {
   "cell_type": "markdown",
   "metadata": {},
   "source": [
    "# Capítulo 3.1 - Tipos Primitivos de Dados\n"
   ]
  },
  {
   "cell_type": "markdown",
   "metadata": {},
   "source": [
    "### Nessa aula vamos estudar os diferentes tipos de dados em python"
   ]
  },
  {
   "cell_type": "markdown",
   "metadata": {},
   "source": [
    "O Python oferece quatro tipos primitivos de dados (int, float, boolean, string)"
   ]
  },
  {
   "cell_type": "code",
   "execution_count": null,
   "metadata": {},
   "outputs": [],
   "source": [
    "# Tipo int\n",
    "x = 3\n",
    "x = -3\n",
    "y = -\n",
    "523342352309850825824582458092438609243385024745982498672348\n",
    "\n",
    "# Tipo float\n",
    "x = 3.5\n",
    "x = -3.583344082\n",
    "pi = 3.1415926535897932384626433832795028841971693993751058209749\n",
    "\n",
    "# Tipo bool\n",
    "x = True\n",
    "y = False\n",
    "\n",
    "# Tipo string\n",
    "x = 'aspas simples'\n",
    "y = \"aspas duplas\"\n",
    "z = '''aspas simples'''"
   ]
  },
  {
   "cell_type": "markdown",
   "metadata": {},
   "source": [
    "Strings com aspas duplas e aspas simples"
   ]
  },
  {
   "cell_type": "code",
   "execution_count": null,
   "metadata": {},
   "outputs": [],
   "source": [
    "str1 = 'Este é um texto que contém \"aspas duplas\" dentro dele'\n",
    "\n",
    "str2 = \"Este é um texto que contém 'aspas simples' dentro dele\""
   ]
  },
  {
   "cell_type": "code",
   "execution_count": 2,
   "metadata": {},
   "outputs": [
    {
     "name": "stdout",
     "output_type": "stream",
     "text": [
      "Fazendo uma string que contém   \n",
      "aspas triplas. Estas aspas me permite fazer uma string com       \n",
      "quebra\n",
      "de\n",
      "linha\n"
     ]
    }
   ],
   "source": [
    "str3 = '''Fazendo uma string que contém   \n",
    "aspas triplas. Estas aspas me permite fazer uma string com       \n",
    "quebra\n",
    "de\n",
    "linha'''\n",
    "\n",
    "print(str3)"
   ]
  },
  {
   "cell_type": "markdown",
   "metadata": {},
   "source": [
    "Além dos 4 tipos de dados que vimos, também tem o tipo None"
   ]
  },
  {
   "cell_type": "code",
   "execution_count": 5,
   "metadata": {},
   "outputs": [
    {
     "name": "stdout",
     "output_type": "stream",
     "text": [
      "<class 'NoneType'>\n",
      "<class 'NoneType'>\n"
     ]
    }
   ],
   "source": [
    "x = None\n",
    "y = None\n",
    "\n",
    "print(type(x))\n",
    "print(type(y))"
   ]
  }
 ],
 "metadata": {
  "kernelspec": {
   "display_name": "Python 3",
   "language": "python",
   "name": "python3"
  },
  "language_info": {
   "codemirror_mode": {
    "name": "ipython",
    "version": 3
   },
   "file_extension": ".py",
   "mimetype": "text/x-python",
   "name": "python",
   "nbconvert_exporter": "python",
   "pygments_lexer": "ipython3",
   "version": "3.12.0"
  }
 },
 "nbformat": 4,
 "nbformat_minor": 2
}
