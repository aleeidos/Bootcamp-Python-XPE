{
 "cells": [
  {
   "cell_type": "markdown",
   "metadata": {},
   "source": [
    "# Capítulo 3.2 - Operadores dos Tipos Primitivos de Dados\n"
   ]
  },
  {
   "cell_type": "markdown",
   "metadata": {},
   "source": [
    "### Existem diferentes operadores em Python e os principais podem ser classificados em três categorias: operadores aritméticos, operadores de comparação, operadores lógicos."
   ]
  },
  {
   "cell_type": "markdown",
   "metadata": {},
   "source": [
    "### Operadores Aritméticos\n"
   ]
  },
  {
   "cell_type": "code",
   "execution_count": null,
   "metadata": {},
   "outputs": [],
   "source": [
    "x = 10\n",
    "y = 4\n",
    "z = 4.5\n",
    "print('x + y + z = ', x + y + z)\n",
    "print('x - 3 = ', x - 3)\n",
    "print('x * z = ', x * z)\n",
    "print('x * 2 = ', x * 2)\n",
    "print('x / (y + 2) = ', x / (y + 2))\n",
    "print('x % y =', x % y)\n",
    "print('x // y = ', x // y)\n",
    "print('x ** z = ', x ** z)"
   ]
  },
  {
   "cell_type": "markdown",
   "metadata": {},
   "source": [
    "É possível fazer operações aritméticas com tipos de dados Booleanos também. Isso porque  \n",
    "True = mesma coisa que `1`\n",
    "False = mesma coisa que `0`\n"
   ]
  },
  {
   "cell_type": "code",
   "execution_count": null,
   "metadata": {},
   "outputs": [],
   "source": [
    "print(10 + False) # Equivale a 10 + 0\n",
    "print(True + 5) # Equivale a 1 + 5\n",
    "print(True + True + False) # Equivale a 1 + 1 + 0"
   ]
  },
  {
   "cell_type": "markdown",
   "metadata": {},
   "source": [
    "A importância da ORDEM DE PRECEDÊNCIA no python"
   ]
  },
  {
   "cell_type": "code",
   "execution_count": 1,
   "metadata": {},
   "outputs": [
    {
     "name": "stdout",
     "output_type": "stream",
     "text": [
      "Área do Trapézio:  55.0\n"
     ]
    }
   ],
   "source": [
    "# Ordem ERRADA\n",
    "B = 15 # Base maior (B)\n",
    "b = 10 # Base menor (b)\n",
    "h = 8 # Altura (h)\n",
    "# Calcula a área do Trapézio\n",
    "area = B + b * h / 2\n",
    "print('Área do Trapézio: ', area)"
   ]
  },
  {
   "cell_type": "code",
   "execution_count": 2,
   "metadata": {},
   "outputs": [
    {
     "name": "stdout",
     "output_type": "stream",
     "text": [
      "Área do Trapézio:  100.0\n"
     ]
    }
   ],
   "source": [
    "# Ordem CORRETA\n",
    "B = 15 # Base maior (B)\n",
    "b = 10 # Base menor (b)\n",
    "h = 8 # Altura (h)\n",
    "# Calcula a área do Trapézio\n",
    "area = (B + b) * h / 2\n",
    "print('Área do Trapézio: ', area)"
   ]
  },
  {
   "cell_type": "markdown",
   "metadata": {},
   "source": [
    "### Operadores de Comparação"
   ]
  }
 ],
 "metadata": {
  "kernelspec": {
   "display_name": "Python 3",
   "language": "python",
   "name": "python3"
  },
  "language_info": {
   "codemirror_mode": {
    "name": "ipython",
    "version": 3
   },
   "file_extension": ".py",
   "mimetype": "text/x-python",
   "name": "python",
   "nbconvert_exporter": "python",
   "pygments_lexer": "ipython3",
   "version": "3.12.0"
  }
 },
 "nbformat": 4,
 "nbformat_minor": 2
}
